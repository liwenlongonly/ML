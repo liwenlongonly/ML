{
 "cells": [
  {
   "cell_type": "markdown",
   "metadata": {
    "id": "8iwaee_T-Urj"
   },
   "source": [
    "# Assignment 2 - Logistic Regression\n",
    "> **FULL MARKS = 10**\n",
    "\n",
    "In this assignment, you are going to implement your own logistic Regression function. Please notice **no** library versions of logistic regression are allowed. Follow the instructions, you will need to fill the blanks to make it functional. The process is similar to the previous assignment. "
   ]
  },
  {
   "cell_type": "markdown",
   "metadata": {
    "id": "FWwuN_B5D73w"
   },
   "source": [
    "***Initialization***"
   ]
  },
  {
   "cell_type": "markdown",
   "metadata": {
    "id": "-H_r0Tz6gu4c"
   },
   "source": [
    "*No more library allowed*"
   ]
  },
  {
   "cell_type": "code",
   "execution_count": 268,
   "metadata": {
    "id": "9M1DAu9XPY8E"
   },
   "outputs": [],
   "source": [
    "# load required library\n",
    "import matplotlib.pyplot as plt\n",
    "import numpy as np\n",
    "from sklearn.datasets import load_iris\n",
    "import scipy.optimize as opt"
   ]
  },
  {
   "cell_type": "markdown",
   "metadata": {
    "id": "4LdQ5yubLJld"
   },
   "source": [
    "Load data *(Do not modify)*\n",
    "_________\n",
    "\n",
    "We use 100 samples and 2 features. \n"
   ]
  },
  {
   "cell_type": "code",
   "execution_count": 269,
   "metadata": {
    "id": "ipOG3LQfjQMh",
    "pycharm": {
     "name": "#%%\n"
    }
   },
   "outputs": [],
   "source": [
    "x, y = load_iris(return_X_y=True)"
   ]
  },
  {
   "cell_type": "code",
   "execution_count": 270,
   "metadata": {
    "id": "7EpIS82ED4vr"
   },
   "outputs": [],
   "source": [
    "x=x[:100, :2] # class 0 and 1 balanced\n",
    "y=y[:100]"
   ]
  },
  {
   "cell_type": "markdown",
   "metadata": {
    "id": "33XtealSjQMk"
   },
   "source": [
    "**Visualize data**\n",
    "___________"
   ]
  },
  {
   "cell_type": "code",
   "execution_count": 271,
   "metadata": {
    "id": "V5KwBYiT-J3x"
   },
   "outputs": [],
   "source": [
    "# draw raw data\n",
    "def draw_data(x,y):\n",
    "    \n",
    "    #########################################################################\n",
    "    # Full Mark: 1                                                          #    \n",
    "    # TODO:                                                                 #\n",
    "    # 1. make a scatter plot of the raw data                                #\n",
    "    # 2. set title for the plot                                             #\n",
    "    # 3. set label for x,y axis                                             #\n",
    "    # Note, this scatter plot has two different type of points              #\n",
    "    #########################################################################\n",
    "\n",
    "    plt.title(\"Logistic Regression\")\n",
    "    plt.xlabel(\"x\")\n",
    "    plt.ylabel(\"y\")\n",
    "    pos = np.where(y == 0)\n",
    "    neg = np.where(y == 1)\n",
    "    plt.scatter(x[pos, 0], x[pos, 1], marker='x', color='r', label='class0')\n",
    "    plt.scatter(x[neg, 0], x[neg, 1], marker='o', color='b', label='class1')\n",
    "    plt.legend()\n",
    "    \n",
    "    #########################################################################\n",
    "    #                       END OF YOUR CODE                                #\n",
    "    #########################################################################\n",
    "\n",
    "    # show plot\n",
    "    plt.show()"
   ]
  },
  {
   "cell_type": "markdown",
   "metadata": {
    "id": "6jyZEY2f-ZlQ"
   },
   "source": [
    "Your plot should be similar to the example below"
   ]
  },
  {
   "cell_type": "code",
   "execution_count": 272,
   "metadata": {
    "colab": {
     "base_uri": "https://localhost:8080/",
     "height": 370
    },
    "id": "0X1EdMDdMpHR",
    "outputId": "e7a75cb3-6c6f-47f2-9322-b40d6f78489f"
   },
   "outputs": [
    {
     "data": {
      "image/png": "[encoded data removed]",
      "text/plain": [
       "<Figure size 432x288 with 1 Axes>"
      ]
     },
     "metadata": {
      "needs_background": "light"
     },
     "output_type": "display_data"
    }
   ],
   "source": [
    "draw_data(x,y)"
   ]
  },
  {
   "cell_type": "markdown",
   "metadata": {
    "id": "sknkLiYZjaJo"
   },
   "source": [
    "**Sigmoid function**\n",
    "________________"
   ]
  },
  {
   "cell_type": "code",
   "execution_count": 273,
   "metadata": {
    "id": "wszqzBT9xRgj"
   },
   "outputs": [],
   "source": [
    "# please do not modify this cell\n",
    "x = np.concatenate((np.array([np.ones(len(y))]).T, x), axis=1)\n",
    "theta = np.zeros(x.shape[1])"
   ]
  },
  {
   "cell_type": "markdown",
   "metadata": {
    "id": "qfM7gVinsixJ"
   },
   "source": [
    "**You can decide by yourselves whether to split the dataset to training and testing. The training and testing datasets spliting is not a part of the assignment 2 as you have done that in assignmnet 1. Without spliting, you can just report the accuracy on training dataset. **"
   ]
  },
  {
   "cell_type": "code",
   "execution_count": 274,
   "metadata": {
    "id": "AsCvUXe1jQMq",
    "pycharm": {
     "name": "#%%\n"
    }
   },
   "outputs": [],
   "source": [
    "# define sigmoid function\n",
    "# math: refer to https://en.wikipedia.org/wiki/Sigmoid_function or slides\n",
    "def sigmoid(theta, X):\n",
    "    #########################################################################\n",
    "    # Full Mark: 1                                                          # \n",
    "    # TODO:                                                                 #\n",
    "    # 1. implement the sigmoid function over input theta and X\n",
    "    #########################################################################\n",
    "    \n",
    "    s = y_ = np.dot(X, theta)\n",
    "    s = 1.0 / (1 + np.exp(-y_))\n",
    "    \n",
    "    #########################################################################\n",
    "    #                       END OF YOUR CODE                                #\n",
    "    #########################################################################\n",
    "    \n",
    "    return s"
   ]
  },
  {
   "cell_type": "markdown",
   "metadata": {
    "id": "4Layck69jdEU"
   },
   "source": [
    "**Cost function**\n",
    "____________"
   ]
  },
  {
   "cell_type": "code",
   "execution_count": 275,
   "metadata": {
    "id": "oUtUiAqBjQMw",
    "pycharm": {
     "name": "#%%\n"
    }
   },
   "outputs": [],
   "source": [
    "# define cost function with sigmoid function\n",
    "def cost(theta, X, y):\n",
    "    #########################################################################\n",
    "    # Full Mark: 2                                                          # \n",
    "    # TODO:                                                                 #\n",
    "    # 1. implement the cross entropy loss function with sigmoid             #\n",
    "    #########################################################################\n",
    "    \n",
    "    hx = sigmoid(theta, X)\n",
    "    if np.sum(1 - hx < 1e-10) != 0:\n",
    "        return np.inf\n",
    "    co = -np.mean(np.multiply(y, np.log(hx)) + np.multiply(1 - y, np.log(1 - hx)))\n",
    "    \n",
    "    #########################################################################\n",
    "    #                       END OF YOUR CODE                                #\n",
    "    #########################################################################\n",
    "    return co"
   ]
  },
  {
   "cell_type": "markdown",
   "metadata": {
    "id": "fw9RGgRojgzY"
   },
   "source": [
    "**Calculate gradients**\n",
    "________________"
   ]
  },
  {
   "cell_type": "code",
   "execution_count": 276,
   "metadata": {
    "id": "shm404iFjQM5",
    "pycharm": {
     "name": "#%%\n"
    }
   },
   "outputs": [],
   "source": [
    "# the gradient of the cost is a vector of the same length as θ where the jth element (for j = 0, 1, . . . , n)\n",
    "def gradient(theta, X, y):\n",
    "    #########################################################################\n",
    "    # Full Mark: 2                                                          # \n",
    "    # TODO:                                                                 #\n",
    "    # 1. calculate the gradients using theta and sigmoid                    #\n",
    "    # Hint: X may need to be transposed to do matrix operation              #\n",
    "    #########################################################################\n",
    "    \n",
    "    y_ = sigmoid(theta, X)\n",
    "    grad = np.dot(X.T,  y_ - y)/len(X)\n",
    "    \n",
    "    #########################################################################\n",
    "    #                       END OF YOUR CODE                                #\n",
    "    #########################################################################\n",
    "    return grad"
   ]
  },
  {
   "cell_type": "markdown",
   "metadata": {
    "id": "TzEZlyZjtYDJ"
   },
   "source": [
    "**Predicting**\n",
    "________________"
   ]
  },
  {
   "cell_type": "code",
   "execution_count": 277,
   "metadata": {
    "id": "4-hauHHLLyh-"
   },
   "outputs": [],
   "source": [
    "# predict for new X\n",
    "def predict(theta, X):\n",
    "    #########################################################################\n",
    "    # Full Mark: 1                                                          # \n",
    "    # TODO:                                                                 #\n",
    "    # 1. predict the value using theta and sigmoid                          #\n",
    "    # 2. convert the predicted value to 0/1                                 #\n",
    "    # That's how it is called Logistic regression                           #\n",
    "    #########################################################################\n",
    "    \n",
    "    m = len(X)\n",
    "    predict_labels = np.zeros((m,))\n",
    "    pos = np.where(sigmoid(theta, X) >= 0.5)\n",
    "    neg = np.where(sigmoid(theta, X) < 0.5)\n",
    "    predict_labels[pos] = 1\n",
    "    predict_labels[neg] = 0\n",
    "    \n",
    "    #########################################################################\n",
    "    #                       END OF YOUR CODE                                #\n",
    "    #########################################################################\n",
    "\n",
    "    return predict_labels"
   ]
  },
  {
   "cell_type": "markdown",
   "metadata": {
    "id": "nN9AOS3UtYsr"
   },
   "source": [
    "**Calculate accuracy**\n",
    "________________"
   ]
  },
  {
   "cell_type": "code",
   "execution_count": 278,
   "metadata": {
    "id": "ixEjN3TbwiPS"
   },
   "outputs": [],
   "source": [
    "# calculate accuracy\n",
    "def accurate(predictions, y):\n",
    "    #########################################################################\n",
    "    # Full Mark: 1                                                          # \n",
    "    # TODO:                                                                 #\n",
    "    # 1. calculate the accuracy value                                       #\n",
    "    # Note that you coud not import extra library                           #\n",
    "    #########################################################################\n",
    "    \n",
    "    accuracy_score = np.sum(predictions == y) / len(y)\n",
    "    \n",
    "    #########################################################################\n",
    "    #                       END OF YOUR CODE                                #\n",
    "    #########################################################################\n",
    "    return accuracy_score"
   ]
  },
  {
   "cell_type": "markdown",
   "metadata": {
    "id": "oXGba_YxMe3-"
   },
   "source": [
    "**Calling functions**\n",
    "________"
   ]
  },
  {
   "cell_type": "code",
   "execution_count": 279,
   "metadata": {
    "id": "DAg50iSeMbdz"
   },
   "outputs": [
    {
     "name": "stdout",
     "output_type": "stream",
     "text": [
      "final cost is 0.05171662365467926\n",
      "accuracy is 0.99\n"
     ]
    }
   ],
   "source": [
    "# please do not modify this cell\n",
    "result = opt.fmin_tnc(func=cost, x0=theta, fprime=gradient, args=(x, y))\n",
    "final_theta = result[0]\n",
    "final_cost = cost(final_theta, x, y)\n",
    "predictions = predict(final_theta, x)\n",
    "accuracy = accurate(predictions, y)\n",
    "print(\"final cost is \" + str(final_cost))\n",
    "print(\"accuracy is \" + str(accuracy))"
   ]
  },
  {
   "cell_type": "markdown",
   "metadata": {
    "id": "5oqofQH5OKuj"
   },
   "source": [
    "**Decsion boudary** "
   ]
  },
  {
   "cell_type": "code",
   "execution_count": 280,
   "metadata": {
    "id": "EBJmxm-Y4USK"
   },
   "outputs": [],
   "source": [
    "# draw decision boudary\n",
    "def draw_decision_boudary(final_theta,x,y):\n",
    "    #########################################################################\n",
    "    # Full Mark: 2                                                          # \n",
    "    # TODO:                                                                 #\n",
    "    # 1. plot the decision boudary on the raw data                          #\n",
    "    # 2. set title for the plot                                             #\n",
    "    # 3. set label for x,y axis                                             #\n",
    "    # Note, this scatter plot has two different type of points              #\n",
    "    #########################################################################\n",
    "    \n",
    "    plt.title(\"Logistic Regression\")\n",
    "    plt.xlabel(\"x\")\n",
    "    plt.ylabel(\"y\")\n",
    "    pos = np.where(y == 0)\n",
    "    neg = np.where(y == 1)\n",
    "    plt.scatter(x[pos, 1], x[pos, 2], marker='x', color='r', label='class0')\n",
    "    plt.scatter(x[neg, 1], x[neg, 2], marker='o', color='b', label='class1')\n",
    "\n",
    "    plot_x = np.array([np.min(x[:, 1]) - 1, np.max(x[:, 1] + 1)])\n",
    "    plot_y = -1 / final_theta[2] * (final_theta[1] * plot_x + final_theta[0])\n",
    "\n",
    "    plt.plot(plot_x, plot_y)\n",
    "\n",
    "    plt.legend()\n",
    "\n",
    "    #########################################################################\n",
    "    #                       END OF YOUR CODE                                #\n",
    "    #########################################################################\n",
    "\n",
    "    # show plot\n",
    "    plt.show()"
   ]
  },
  {
   "cell_type": "markdown",
   "metadata": {
    "id": "PkIodLiurfW-"
   },
   "source": [
    "Your plot should be similar to the example below"
   ]
  },
  {
   "cell_type": "code",
   "execution_count": 281,
   "metadata": {
    "colab": {
     "base_uri": "https://localhost:8080/",
     "height": 387
    },
    "id": "ButrhJxIuyqj",
    "outputId": "f0b8c54e-1438-400f-fe78-b16a301bde8d"
   },
   "outputs": [
    {
     "data": {
      "image/png": "[encoded data removed]",
      "text/plain": [
       "<Figure size 432x288 with 1 Axes>"
      ]
     },
     "metadata": {
      "needs_background": "light"
     },
     "output_type": "display_data"
    }
   ],
   "source": [
    "draw_decision_boudary(final_theta,x,y)"
   ]
  }
 ],
 "metadata": {
  "colab": {
   "collapsed_sections": [],
   "name": "CS584_Assignment2.ipynb",
   "provenance": []
  },
  "kernelspec": {
   "display_name": "Python 3",
   "language": "python",
   "name": "python3"
  },
  "language_info": {
   "codemirror_mode": {
    "name": "ipython",
    "version": 3
   },
   "file_extension": ".py",
   "mimetype": "text/x-python",
   "name": "python",
   "nbconvert_exporter": "python",
   "pygments_lexer": "ipython3",
   "version": "3.7.0"
  },
  "pycharm": {
   "stem_cell": {
    "cell_type": "raw",
    "metadata": {
     "collapsed": false
    },
    "source": []
   }
  }
 },
 "nbformat": 4,
 "nbformat_minor": 1
}